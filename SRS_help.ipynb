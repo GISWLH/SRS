{
 "cells": [
  {
   "cell_type": "markdown",
   "metadata": {},
   "source": [
    "# SRS algorithm help document  \n",
    "- Description:    This code tells you how to use the 'SRS_python.py' program.   \n",
    "- Author:         Wei Haoshan  \n",
    "- Time:           2022/1/17  "
   ]
  },
  {
   "cell_type": "markdown",
   "metadata": {},
   "source": [
    "## Examples\n",
    "Fistly, import the program:"
   ]
  },
  {
   "cell_type": "code",
   "execution_count": 1,
   "metadata": {},
   "outputs": [],
   "source": [
    "# import sys\n",
    "# sys.path.append(\"path_name\")\n",
    "from SRS_python import SRS\n",
    "import numpy as np"
   ]
  },
  {
   "cell_type": "markdown",
   "metadata": {},
   "source": [
    "Secondly, define a simple objective function, for example, function named Rastrigin. The expression of Rastrigin: $$f(x_1,x_2,...,x_n) = 10A + \\sum_{i=1}^{n} (x_i^2 - A cos(2\\pi x_i))$$\n",
    "$$x_i\\in \\left[-5,5\\right]$$\n",
    "Here, A is a input parameter.  \n",
    "\n",
    "The function has a minimum value: $$f_{min}=0$$ At this time, $$x_1=x_2=\\cdots=x_n=0$$\n",
    "Then the definition of the function in Python is as follows:"
   ]
  },
  {
   "cell_type": "code",
   "execution_count": 2,
   "metadata": {},
   "outputs": [],
   "source": [
    "def Rastrigin(x,A):\n",
    "        y = np.zeros((x.shape[0],1))\n",
    "        y[:,0] = A*10 + np.sum(x**2 - A*np.cos(2*np.pi*x),axis=1)\n",
    "        return y"
   ]
  },
  {
   "cell_type": "markdown",
   "metadata": {},
   "source": [
    "Assume that the number of parameters to be determined for the function is $10$, that is, $n=10$."
   ]
  },
  {
   "cell_type": "code",
   "execution_count": 3,
   "metadata": {},
   "outputs": [
    {
     "name": "stdout",
     "output_type": "stream",
     "text": [
      "Best target function value: 2.8767940989382623e-06\n",
      "Best parameter value: [ 3.48223898e-05  3.89093950e-05 -1.64645504e-05 -7.80581949e-05\n",
      "  1.60156462e-05 -4.28078110e-05  3.94994109e-06  3.81078731e-05\n",
      " -2.86939338e-05 -3.20886616e-05]\n",
      "Generation: 50\n",
      "Function evaluations: 20397\n",
      "Time (s): 0.5084404945373535\n"
     ]
    }
   ],
   "source": [
    "# Example 1: simply using\n",
    "# Determination of dimension\n",
    "n = 10\n",
    "\n",
    "# lower bound for each parameter\n",
    "bl = [-5 for i in range(n)]\n",
    "\n",
    "# upper bound for each parameter\n",
    "bu = [5 for i in range(n)]\n",
    "\n",
    "# Initialize class SRS, use the default parameters to solve, \n",
    "# and choose to find the minimum value, that is, MAX=False\n",
    "srs = SRS(n,bl,bu,MAX=False)\n",
    "\n",
    "# Run the main program: SRS_run\n",
    "# SRS_run(func,*args), *args represents the parameters in func,\n",
    "# here, mean A=10\n",
    "r = srs.SRS_run(Rastrigin,10)\n",
    "# r is a list, r[0] is the optimal value, and r[1] is the optimal parameter value\n",
    "\n",
    "# Print result\n",
    "srs.type_result()"
   ]
  },
  {
   "cell_type": "markdown",
   "metadata": {},
   "source": [
    "SRS algorithm has four adjustable parameters, namely:  \n",
    "|Name|Defult|Type|Name in python|characteristic|\n",
    "|:---:|:---:|:---:|:---:|:---|\n",
    "|$p$|int|3|p|p is the core parameter, and the value is generally 3-20, which needs to be given according to the specific situation|\n",
    "|$p_o$|int|depend on $p$|sp|Its range is $[3, p]$, $p_o=3 (p<5)$, $p_o=5 (5<=p<12)$, $p_o=12 (p>12)$|\n",
    "|$\\delta_\\epsilon$|float|5|deps|Its range is $(0, +\\infty)$, it is a key parameter for adjusting the precision, the larger the value, the higher the precision and the longer the time|\n",
    "|$\\delta$|float|0.3|delta|Its range is $(0, 0.5)$, it is a key parameter for adjusting the precision, the larger the value, the higher the precision and the longer the time|"
   ]
  },
  {
   "cell_type": "code",
   "execution_count": 4,
   "metadata": {},
   "outputs": [
    {
     "name": "stdout",
     "output_type": "stream",
     "text": [
      "Best target function value: 0.004084444192400838\n",
      "Best parameter value: [-5.27084461e-04  9.61785450e-05 -2.83227624e-03  2.26191612e-03\n",
      " -8.72206547e-04 -2.22038138e-04 -1.32600528e-03 -1.53001196e-03\n",
      " -1.44460368e-03  4.08417714e-04]\n",
      "Generation: 32\n",
      "Function evaluations: 20637\n",
      "Time (s): 0.4140489101409912\n"
     ]
    }
   ],
   "source": [
    "# Example 2: Adjustment of algorithm parameters\n",
    "# Determination of dimension\n",
    "n = 10\n",
    "\n",
    "# lower bound for each parameter\n",
    "bl = [-5 for i in range(n)]\n",
    "\n",
    "# upper bound for each parameter\n",
    "bu = [5 for i in range(n)]\n",
    "\n",
    "# Initialize class SRS, use the default parameters to solve, \n",
    "# and choose to find the minimum value, that is, MAX=False.\n",
    "# Given a set of algorithm parameters\n",
    "srs = SRS(n,bl,bu,MAX=False,p=5,sp=4,deps=5,delta=0.35)\n",
    "\n",
    "# Run the main program: SRS_run\n",
    "# SRS_run(func,*args), *args represents the parameters in func,\n",
    "# here, mean A=10\n",
    "r = srs.SRS_run(Rastrigin,10)\n",
    "# r is a list, r[0] is the optimal value, and r[1] is the optimal parameter value\n",
    "\n",
    "# Print result\n",
    "srs.type_result()"
   ]
  },
  {
   "cell_type": "markdown",
   "metadata": {},
   "source": [
    "The above code may have poor convergence because the algorithm terminates prematurely, so we need to adjust the termination parameters of the algorithm. This parameter is the number of calls (named num here) to the objective function of the algorithm, num defaults to 20000."
   ]
  },
  {
   "cell_type": "code",
   "execution_count": 5,
   "metadata": {},
   "outputs": [
    {
     "name": "stdout",
     "output_type": "stream",
     "text": [
      "Best target function value: 0.0\n",
      "Best parameter value: [ 8.88178420e-16  0.00000000e+00 -1.11022302e-16 -4.44089210e-16\n",
      "  0.00000000e+00  0.00000000e+00  4.44089210e-16  4.44089210e-16\n",
      "  0.00000000e+00  0.00000000e+00]\n",
      "Generation: 76\n",
      "Function evaluations: 51459\n",
      "Time (s): 1.1329700946807861\n"
     ]
    }
   ],
   "source": [
    "# Set num to 50000\n",
    "srs = SRS(n,bl,bu,MAX=False,p=5,sp=4,deps=5,delta=0.35,num=50000)\n",
    "\n",
    "# Run the main program: SRS_run\n",
    "srs.SRS_run(Rastrigin,10)\n",
    "\n",
    "# Print result\n",
    "srs.type_result()"
   ]
  },
  {
   "cell_type": "markdown",
   "metadata": {},
   "source": [
    "If you can use the vectorized objective function, you can get rid of the limitation of num to a certain extent, and the default value of num is $2000$ during vectorization. **It should be noted that when defining the vectorized objective function, each input and output variable should be set to a matrix of $(n\\times1)$**"
   ]
  },
  {
   "cell_type": "code",
   "execution_count": 6,
   "metadata": {},
   "outputs": [
    {
     "name": "stdout",
     "output_type": "stream",
     "text": [
      "Best target function value: 0.0\n",
      "Best parameter value: [ 0.00000000e+00  0.00000000e+00 -8.88178420e-16  0.00000000e+00\n",
      "  0.00000000e+00  8.88178420e-16 -1.11022302e-16  0.00000000e+00\n",
      "  0.00000000e+00 -2.22044605e-16]\n",
      "Generation: 89\n",
      "Function evaluations: 430\n",
      "Function evaluations (scalar): 72117\n",
      "Time (s): 0.2714197635650635\n"
     ]
    }
   ],
   "source": [
    "# Vectorization set to True\n",
    "srs = SRS(n,bl,bu,MAX=False,p=5,sp=4,deps=5,delta=0.35,Vectorization=True)\n",
    "\n",
    "# Run the main program: SRS_run\n",
    "srs.SRS_run(Rastrigin,10)\n",
    "\n",
    "# Print result\n",
    "srs.type_result()"
   ]
  },
  {
   "cell_type": "markdown",
   "metadata": {},
   "source": [
    "If we know the optimal value of the objective function, we can view the absolute error by giving the optimal value, or we can let the algorithm terminate early when the objective function reaches a certain range of the optimal value."
   ]
  },
  {
   "cell_type": "code",
   "execution_count": 7,
   "metadata": {},
   "outputs": [
    {
     "name": "stdout",
     "output_type": "stream",
     "text": [
      "Best target function value: 3.2586972196213537e-06\n",
      "Best parameter value: [ 3.02733096e-05 -1.02286956e-05  1.71890424e-05 -9.09386768e-06\n",
      " -7.17556537e-05  6.41686628e-06  3.51593624e-05 -2.10409152e-05\n",
      "  6.55793617e-05 -6.21021399e-05]\n",
      "Generation: 58\n",
      "Function evaluations: 209\n",
      "Function evaluations (scalar): 21189\n",
      "Absolute error: 3.2586972196213537e-06\n",
      "Time (s): 0.1016244888305664\n"
     ]
    }
   ],
   "source": [
    "# Set the optimal value: OptimalValue=0\n",
    "# The algorithm terminates within the optimal value of 0.00001, set ObjectiveLimit=10**-5\n",
    "srs = SRS(n,bl,bu,MAX=False,Vectorization=True,OptimalValue=0,ObjectiveLimit=10**-5)\n",
    "\n",
    "# Run the main program: SRS_run\n",
    "r = srs.SRS_run(Rastrigin,10)\n",
    "\n",
    "# Print result\n",
    "srs.type_result()"
   ]
  },
  {
   "cell_type": "code",
   "execution_count": 8,
   "metadata": {},
   "outputs": [
    {
     "name": "stdout",
     "output_type": "stream",
     "text": [
      "r: (3.2586972196213537e-06, array([ 3.02733096e-05, -1.02286956e-05,  1.71890424e-05, -9.09386768e-06,\n",
      "       -7.17556537e-05,  6.41686628e-06,  3.51593624e-05, -2.10409152e-05,\n",
      "        6.55793617e-05, -6.21021399e-05]))\n",
      "r[0]: 3.2586972196213537e-06\n",
      "r[1]: [ 3.02733096e-05 -1.02286956e-05  1.71890424e-05 -9.09386768e-06\n",
      " -7.17556537e-05  6.41686628e-06  3.51593624e-05 -2.10409152e-05\n",
      "  6.55793617e-05 -6.21021399e-05]\n"
     ]
    }
   ],
   "source": [
    "# Print r\n",
    "print('r:',r)\n",
    "print('r[0]:',r[0])\n",
    "print('r[1]:',r[1])"
   ]
  },
  {
   "cell_type": "markdown",
   "metadata": {},
   "source": [
    "There are ten built-in test functions in SRS_python, you can refer to [unpublished], as shown below:"
   ]
  },
  {
   "cell_type": "code",
   "execution_count": 9,
   "metadata": {},
   "outputs": [
    {
     "name": "stdout",
     "output_type": "stream",
     "text": [
      "*********************************************\n",
      "Test function 1: Booth\n",
      "Best target function value: 1.7728966928454499e-10\n",
      "Best parameter value: [3.0000003  1.00000571]\n",
      "Generation: 72\n",
      "Function evaluations: 3549\n",
      "Time (s): 0.09574031829833984\n",
      "*********************************************\n",
      "Test function 2: GoldsteinPrice\n",
      "Best target function value: 3.0000000000032236\n",
      "Best parameter value: [ 1.01424790e-07 -1.00000002e+00]\n",
      "Generation: 88\n",
      "Function evaluations: 4422\n",
      "Absolute error: 3.2236435743016045e-12\n",
      "Time (s): 0.24774670600891113\n",
      "*********************************************\n",
      "Test function 3: Schaffer\n",
      "Best target function value: 0.0\n",
      "Best parameter value: [-4.47558657e-16  0.00000000e+00]\n",
      "Generation: 62\n",
      "Function evaluations: 3279\n",
      "Time (s): 0.13226079940795898\n",
      "*********************************************\n"
     ]
    }
   ],
   "source": [
    "print('*********************************************')\n",
    "print('Test function 1: Booth')\n",
    "n = 2\n",
    "bl = [-100,-100]\n",
    "bu = [100,100]\n",
    "srs = SRS(n,bl,bu,MAX=False,Vectorization=False)\n",
    "srs.SRS_run(SRS.Booth)\n",
    "srs.type_result()\n",
    "print('*********************************************')\n",
    "\n",
    "print('Test function 2: GoldsteinPrice')\n",
    "n = 2\n",
    "bl = [-10,-10]\n",
    "bu = [10,10]\n",
    "srs = SRS(n,bl,bu,MAX=False,Vectorization=False,OptimalValue=3)\n",
    "srs.SRS_run(SRS.GoldsteinPrice)\n",
    "srs.type_result()\n",
    "print('*********************************************')\n",
    "\n",
    "print('Test function 3: Schaffer')\n",
    "n = 2\n",
    "bl = [-100,-100]\n",
    "bu = [100,100]\n",
    "srs = SRS(n,bl,bu,MAX=False,Vectorization=False)\n",
    "srs.SRS_run(SRS.Schaffer)\n",
    "srs.type_result()\n",
    "print('*********************************************')"
   ]
  },
  {
   "cell_type": "code",
   "execution_count": 10,
   "metadata": {},
   "outputs": [
    {
     "name": "stdout",
     "output_type": "stream",
     "text": [
      "Test function 4: Tripod\n",
      "Best target function value: 7.286132764981312e-07\n",
      "Best parameter value: [-5.39170682e-07 -5.00000002e+01]\n",
      "Generation: 83\n",
      "Function evaluations: 13870\n",
      "Time (s): 0.3902626037597656\n",
      "*********************************************\n",
      "Test function 5: UrsemWaves\n",
      "Best target function value: -7.306998731324459\n",
      "Best parameter value: [-0.60568949 -1.17756193]\n",
      "Generation: 65\n",
      "Function evaluations: 12639\n",
      "Absolute error: 2.686755413705555e-07\n",
      "Time (s): 0.24648690223693848\n",
      "*********************************************\n",
      "Test function 6: Wolfe\n",
      "Best target function value: 0.0\n",
      "Best parameter value: [0. 0. 0.]\n",
      "Generation: 26\n",
      "Function evaluations: 60\n",
      "Function evaluations (scalar): 2295\n",
      "Time (s): 0.01925349235534668\n",
      "*********************************************\n"
     ]
    }
   ],
   "source": [
    "print('Test function 4: Tripod')\n",
    "n = 2\n",
    "bl = [-100,-100]\n",
    "bu = [100,100]\n",
    "srs = SRS(n,bl,bu,p=10,sp=10,MAX=False,Vectorization=False)\n",
    "srs.SRS_run(SRS.Tripod)\n",
    "srs.type_result()\n",
    "print('*********************************************')\n",
    "\n",
    "print('Test function 5: UrsemWaves')\n",
    "n = 2\n",
    "bl = [-0.9,-1.2]\n",
    "bu = [1.2,1.2]\n",
    "srs = SRS(n,bl,bu,p=12,sp=3,MAX=False,Vectorization=False,OptimalValue=-7.306999)\n",
    "srs.SRS_run(SRS.UrsemWaves)\n",
    "srs.type_result()\n",
    "print('*********************************************')\n",
    "\n",
    "print('Test function 6: Wolfe')\n",
    "n = 3\n",
    "bl = [0,0,0]\n",
    "bu = [2,2,2]\n",
    "srs = SRS(n,bl,bu,MAX=False,Vectorization=True)\n",
    "srs.SRS_run(SRS.Wolfe)\n",
    "srs.type_result()\n",
    "print('*********************************************')"
   ]
  },
  {
   "cell_type": "code",
   "execution_count": 11,
   "metadata": {},
   "outputs": [
    {
     "name": "stdout",
     "output_type": "stream",
     "text": [
      "Test function 7: Rastrigin\n",
      "Best target function value: 3.170015361320111e-10\n",
      "Best parameter value: [-2.46595891e-07 -1.30691481e-07 -3.51083828e-07 -5.56542723e-08\n",
      " -4.98910632e-07 -2.80804034e-07 -6.80993499e-07  4.99351760e-07\n",
      " -4.30797893e-07 -4.08861300e-07]\n",
      "Generation: 82\n",
      "Function evaluations: 333\n",
      "Function evaluations (scalar): 33795\n",
      "Time (s): 0.11790943145751953\n",
      "*********************************************\n",
      "Test function 8: Rosenbrock\n",
      "Best target function value: 3.190396692933764e-06\n",
      "Best parameter value: [1.00002023 0.99998123 0.99997759 0.99997345 0.9999362  0.99982775\n",
      " 0.99964996 0.99932768 0.99868231 0.99733873]\n",
      "Generation: 1247\n",
      "Function evaluations: 1538\n",
      "Function evaluations (scalar): 153222\n",
      "Time (s): 0.6075646877288818\n",
      "*********************************************\n"
     ]
    }
   ],
   "source": [
    "print('Test function 7: Rastrigin')\n",
    "n = 10\n",
    "bl = [-5 for i in range(n)]\n",
    "bu = [5 for i in range(n)]\n",
    "srs = SRS(n,bl,bu,p=3,sp=3,MAX=False,Vectorization=True)\n",
    "srs.SRS_run(SRS.Rastrigin,10)\n",
    "srs.type_result()\n",
    "print('*********************************************')\n",
    "\n",
    "print('Test function 8: Rosenbrock')\n",
    "n = 10\n",
    "bl = [-10 for i in range(n)]\n",
    "bu = [10 for i in range(n)]\n",
    "srs = SRS(n,bl,bu,p=3,sp=3,MAX=False,Vectorization=True,num=3000)\n",
    "srs.SRS_run(SRS.Rosenbrock)\n",
    "srs.type_result()\n",
    "print('*********************************************')"
   ]
  },
  {
   "cell_type": "code",
   "execution_count": 12,
   "metadata": {},
   "outputs": [
    {
     "name": "stdout",
     "output_type": "stream",
     "text": [
      "Test function 9: Schwefel\n",
      "Best target function value: 1.651870258039324e-07\n",
      "Best parameter value: [ 6.33351611e-06  6.13403455e-05  3.19188217e-05  3.84178219e-05\n",
      "  1.96406233e-04  6.53642124e-05 -2.71178148e-04 -1.57576777e-04\n",
      "  8.63243189e-05  5.78699638e-05]\n",
      "Generation: 81\n",
      "Function evaluations: 342\n",
      "Function evaluations (scalar): 34719\n",
      "Time (s): 0.20902657508850098\n",
      "*********************************************\n",
      "Test function 10: Zakharov\n",
      "Best target function value: 9.46311277957514e-06\n",
      "Best parameter value: [ 0.00016095 -0.00046136  0.00091187  0.00038735 -0.00060399 -0.00101726\n",
      "  0.00014306 -0.00050915  0.00086615 -0.0002261  -0.00021652  0.00134976\n",
      " -0.00097985  0.00078628  0.00073583 -0.00054977 -0.00094359 -0.00050865\n",
      "  0.0005246   0.00019191]\n",
      "Generation: 52\n",
      "Function evaluations: 393\n",
      "Function evaluations (scalar): 75351\n",
      "Absolute error: 9.46311277957514e-06\n",
      "Time (s): 0.14472603797912598\n",
      "*********************************************\n"
     ]
    }
   ],
   "source": [
    "print('Test function 9: Schwefel')\n",
    "n = 10\n",
    "bl = [-100 for i in range(n)]\n",
    "bu = [100 for i in range(n)]\n",
    "srs = SRS(n,bl,bu,p=3,sp=3,MAX=False,Vectorization=True)\n",
    "srs.SRS_run(SRS.Schwefel)\n",
    "srs.type_result()\n",
    "print('*********************************************')\n",
    "\n",
    "print('Test function 10: Zakharov')\n",
    "n = 20\n",
    "bl = [-5 for i in range(n)]\n",
    "bu = [10 for i in range(n)]\n",
    "srs = SRS(n,bl,bu,p=3,sp=3,delta=0.3,deps=5,MAX=False,Vectorization=True,num=1000,OptimalValue=0,ObjectiveLimit=10**-5)\n",
    "srs.SRS_run(SRS.Zakharov)\n",
    "srs.type_result()\n",
    "print('*********************************************')"
   ]
  }
 ],
 "metadata": {
  "interpreter": {
   "hash": "a8f61be024eba58adef938c9aa1e29e02cb3dece83a5348b1a2dafd16a070453"
  },
  "kernelspec": {
   "display_name": "Python 3.8.8 64-bit ('base': conda)",
   "language": "python",
   "name": "python3"
  },
  "language_info": {
   "codemirror_mode": {
    "name": "ipython",
    "version": 3
   },
   "file_extension": ".py",
   "mimetype": "text/x-python",
   "name": "python",
   "nbconvert_exporter": "python",
   "pygments_lexer": "ipython3",
   "version": "3.8.8"
  },
  "orig_nbformat": 4
 },
 "nbformat": 4,
 "nbformat_minor": 2
}
